{
 "cells": [
  {
   "cell_type": "code",
   "execution_count": 2,
   "id": "0643df65",
   "metadata": {},
   "outputs": [
    {
     "data": {
      "text/html": [
       "<div>\n",
       "<style scoped>\n",
       "    .dataframe tbody tr th:only-of-type {\n",
       "        vertical-align: middle;\n",
       "    }\n",
       "\n",
       "    .dataframe tbody tr th {\n",
       "        vertical-align: top;\n",
       "    }\n",
       "\n",
       "    .dataframe thead th {\n",
       "        text-align: right;\n",
       "    }\n",
       "</style>\n",
       "<table border=\"1\" class=\"dataframe\">\n",
       "  <thead>\n",
       "    <tr style=\"text-align: right;\">\n",
       "      <th></th>\n",
       "      <th>Square_Feet</th>\n",
       "      <th>Price</th>\n",
       "    </tr>\n",
       "  </thead>\n",
       "  <tbody>\n",
       "    <tr>\n",
       "      <th>0</th>\n",
       "      <td>1500</td>\n",
       "      <td>250000</td>\n",
       "    </tr>\n",
       "    <tr>\n",
       "      <th>1</th>\n",
       "      <td>2000</td>\n",
       "      <td>300000</td>\n",
       "    </tr>\n",
       "    <tr>\n",
       "      <th>2</th>\n",
       "      <td>1200</td>\n",
       "      <td>200000</td>\n",
       "    </tr>\n",
       "    <tr>\n",
       "      <th>3</th>\n",
       "      <td>1800</td>\n",
       "      <td>275000</td>\n",
       "    </tr>\n",
       "    <tr>\n",
       "      <th>4</th>\n",
       "      <td>2200</td>\n",
       "      <td>350000</td>\n",
       "    </tr>\n",
       "  </tbody>\n",
       "</table>\n",
       "</div>"
      ],
      "text/plain": [
       "   Square_Feet   Price\n",
       "0         1500  250000\n",
       "1         2000  300000\n",
       "2         1200  200000\n",
       "3         1800  275000\n",
       "4         2200  350000"
      ]
     },
     "execution_count": 2,
     "metadata": {},
     "output_type": "execute_result"
    }
   ],
   "source": [
    "import pandas as pd\n",
    "dataset=pd.read_csv(r\"linear_regression_pratice_1.csv\")\n",
    "dataset.head(5)"
   ]
  },
  {
   "cell_type": "markdown",
   "id": "ace3abc8",
   "metadata": {},
   "source": [
    "Separate the Data for traning model"
   ]
  },
  {
   "cell_type": "code",
   "execution_count": 3,
   "id": "0f5632bc",
   "metadata": {},
   "outputs": [],
   "source": [
    "x = dataset[[\"Square_Feet\"]]\n",
    "y = dataset[\"Price\"]"
   ]
  },
  {
   "cell_type": "markdown",
   "id": "db02245d",
   "metadata": {},
   "source": [
    "Steps\n",
    "Import two library module for linear regression \n",
    "One is used to seperate the test and train data\n",
    "One is used to train the model\n",
    "Then predict\n"
   ]
  },
  {
   "cell_type": "code",
   "execution_count": 4,
   "id": "1e8fcf91",
   "metadata": {},
   "outputs": [
    {
     "data": {
      "text/plain": [
       "88.37729231896067"
      ]
     },
     "execution_count": 4,
     "metadata": {},
     "output_type": "execute_result"
    }
   ],
   "source": [
    "from sklearn.model_selection import train_test_split\n",
    "from sklearn.linear_model import LinearRegression\n",
    "x_train,x_test,y_train,y_test=train_test_split(x,y,test_size=0.20,random_state=42)\n",
    "model=LinearRegression()\n",
    "# Below line find the value of of m and c in y=mx+c\n",
    "model.fit(x_train,y_train)\n",
    "(model.score(x_test,y_test)*100)\n"
   ]
  },
  {
   "cell_type": "markdown",
   "id": "8b53dab5",
   "metadata": {},
   "source": [
    "Coef find the m value "
   ]
  },
  {
   "cell_type": "code",
   "execution_count": 68,
   "id": "c7622b7e",
   "metadata": {},
   "outputs": [
    {
     "data": {
      "text/plain": [
       "array([171.12984103])"
      ]
     },
     "execution_count": 68,
     "metadata": {},
     "output_type": "execute_result"
    }
   ],
   "source": [
    "model.coef_"
   ]
  },
  {
   "cell_type": "markdown",
   "id": "4ca7fd0f",
   "metadata": {},
   "source": [
    "Intercept find the intercept value"
   ]
  },
  {
   "cell_type": "code",
   "execution_count": 69,
   "id": "51f6f1b7",
   "metadata": {},
   "outputs": [
    {
     "data": {
      "text/plain": [
       "np.float64(-26688.71581492928)"
      ]
     },
     "execution_count": 69,
     "metadata": {},
     "output_type": "execute_result"
    }
   ],
   "source": [
    "model.intercept_"
   ]
  },
  {
   "cell_type": "code",
   "execution_count": 76,
   "id": "db84f933",
   "metadata": {},
   "outputs": [
    {
     "name": "stdout",
     "output_type": "stream",
     "text": [
      "[230006.0457342  315570.96625058 178667.09342438 281344.99804403\n",
      " 349796.93445713 247119.02983748 332683.95035385 264232.01394075\n",
      " 298457.9821473  401135.88676695 212893.06163093 366909.9185604\n",
      " 289901.49009566 384022.90266368 247119.02983748 272788.50599239\n",
      " 332683.95035385 307014.47419894 349796.93445713 238562.53778584\n",
      " 384022.90266368 281344.99804403 332683.95035385 264232.01394075\n",
      " 401135.88676695 247119.02983748 298457.9821473  366909.9185604\n",
      " 289901.49009566 384022.90266368]\n"
     ]
    }
   ],
   "source": [
    "y_pred=model.predict(x)\n",
    "print(y_pred)"
   ]
  },
  {
   "cell_type": "markdown",
   "id": "13a6b565",
   "metadata": {},
   "source": [
    "Draw the grapg and linear regression line"
   ]
  },
  {
   "cell_type": "markdown",
   "id": "269cd0d0",
   "metadata": {},
   "source": [
    "One main point regression line cannot draw using only two point like simple line, it draw using x-axis data and predict data every (y) x point"
   ]
  },
  {
   "cell_type": "code",
   "execution_count": 84,
   "id": "3c324711",
   "metadata": {},
   "outputs": [
    {
     "data": {
      "image/png": "[encoded data removed]",
      "text/plain": [
       "<Figure size 640x480 with 1 Axes>"
      ]
     },
     "metadata": {},
     "output_type": "display_data"
    }
   ],
   "source": [
    "import matplotlib.pyplot as plt\n",
    "plt.scatter(x,y)\n",
    "plt.xlabel(\"Square_Feet\")\n",
    "plt.ylabel(\"Price\")\n",
    "plt.plot(dataset[\"Square_Feet\"],y_pred,c='red')\n",
    "plt.show()"
   ]
  }
 ],
 "metadata": {
  "kernelspec": {
   "display_name": "Python 3",
   "language": "python",
   "name": "python3"
  },
  "language_info": {
   "codemirror_mode": {
    "name": "ipython",
    "version": 3
   },
   "file_extension": ".py",
   "mimetype": "text/x-python",
   "name": "python",
   "nbconvert_exporter": "python",
   "pygments_lexer": "ipython3",
   "version": "3.13.2"
  }
 },
 "nbformat": 4,
 "nbformat_minor": 5
}
