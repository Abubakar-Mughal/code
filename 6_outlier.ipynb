{
 "cells": [
  {
   "cell_type": "code",
   "execution_count": 2,
   "id": "232c0c69",
   "metadata": {},
   "outputs": [
    {
     "data": {
      "text/html": [
       "<div>\n",
       "<style scoped>\n",
       "    .dataframe tbody tr th:only-of-type {\n",
       "        vertical-align: middle;\n",
       "    }\n",
       "\n",
       "    .dataframe tbody tr th {\n",
       "        vertical-align: top;\n",
       "    }\n",
       "\n",
       "    .dataframe thead th {\n",
       "        text-align: right;\n",
       "    }\n",
       "</style>\n",
       "<table border=\"1\" class=\"dataframe\">\n",
       "  <thead>\n",
       "    <tr style=\"text-align: right;\">\n",
       "      <th></th>\n",
       "      <th>Region</th>\n",
       "      <th>Country</th>\n",
       "      <th>Sales Channel</th>\n",
       "      <th>Gender</th>\n",
       "      <th>Married</th>\n",
       "      <th>Order ID</th>\n",
       "      <th>Units Sold</th>\n",
       "      <th>Unit Price</th>\n",
       "      <th>Unit Cost</th>\n",
       "      <th>Total Revenue</th>\n",
       "      <th>Total Profit</th>\n",
       "    </tr>\n",
       "  </thead>\n",
       "  <tbody>\n",
       "    <tr>\n",
       "      <th>0</th>\n",
       "      <td>Australia and Oceania</td>\n",
       "      <td>Tuvalu</td>\n",
       "      <td>NaN</td>\n",
       "      <td>Female</td>\n",
       "      <td>NaN</td>\n",
       "      <td>669165933.0</td>\n",
       "      <td>NaN</td>\n",
       "      <td>255.28</td>\n",
       "      <td>159.42</td>\n",
       "      <td>2533654.00</td>\n",
       "      <td>NaN</td>\n",
       "    </tr>\n",
       "    <tr>\n",
       "      <th>1</th>\n",
       "      <td>NaN</td>\n",
       "      <td>Grenada</td>\n",
       "      <td>Online</td>\n",
       "      <td>NaN</td>\n",
       "      <td>Yes</td>\n",
       "      <td>NaN</td>\n",
       "      <td>2804.0</td>\n",
       "      <td>NaN</td>\n",
       "      <td>117.11</td>\n",
       "      <td>NaN</td>\n",
       "      <td>248406.36</td>\n",
       "    </tr>\n",
       "    <tr>\n",
       "      <th>2</th>\n",
       "      <td>Europe</td>\n",
       "      <td>Russia</td>\n",
       "      <td>NaN</td>\n",
       "      <td>Female</td>\n",
       "      <td>No</td>\n",
       "      <td>341417157.0</td>\n",
       "      <td>1779.0</td>\n",
       "      <td>651.21</td>\n",
       "      <td>NaN</td>\n",
       "      <td>1158502.59</td>\n",
       "      <td>224598.75</td>\n",
       "    </tr>\n",
       "    <tr>\n",
       "      <th>3</th>\n",
       "      <td>Sub-Saharan Africa</td>\n",
       "      <td>Sao Tome and Principe</td>\n",
       "      <td>Online</td>\n",
       "      <td>NaN</td>\n",
       "      <td>NaN</td>\n",
       "      <td>514321792.0</td>\n",
       "      <td>NaN</td>\n",
       "      <td>9.33</td>\n",
       "      <td>6.92</td>\n",
       "      <td>75591.66</td>\n",
       "      <td>19525.82</td>\n",
       "    </tr>\n",
       "    <tr>\n",
       "      <th>4</th>\n",
       "      <td>Sub-Saharan Africa</td>\n",
       "      <td>Rwanda</td>\n",
       "      <td>Offline</td>\n",
       "      <td>Male</td>\n",
       "      <td>Yes</td>\n",
       "      <td>115456712.0</td>\n",
       "      <td>5062.0</td>\n",
       "      <td>651.21</td>\n",
       "      <td>524.96</td>\n",
       "      <td>NaN</td>\n",
       "      <td>NaN</td>\n",
       "    </tr>\n",
       "  </tbody>\n",
       "</table>\n",
       "</div>"
      ],
      "text/plain": [
       "                  Region                Country Sales Channel  Gender Married  \\\n",
       "0  Australia and Oceania                 Tuvalu           NaN  Female     NaN   \n",
       "1                    NaN                Grenada        Online     NaN     Yes   \n",
       "2                 Europe                 Russia           NaN  Female      No   \n",
       "3     Sub-Saharan Africa  Sao Tome and Principe        Online     NaN     NaN   \n",
       "4     Sub-Saharan Africa                 Rwanda       Offline    Male     Yes   \n",
       "\n",
       "      Order ID  Units Sold  Unit Price  Unit Cost  Total Revenue  Total Profit  \n",
       "0  669165933.0         NaN      255.28     159.42     2533654.00           NaN  \n",
       "1          NaN      2804.0         NaN     117.11            NaN     248406.36  \n",
       "2  341417157.0      1779.0      651.21        NaN     1158502.59     224598.75  \n",
       "3  514321792.0         NaN        9.33       6.92       75591.66      19525.82  \n",
       "4  115456712.0      5062.0      651.21     524.96            NaN           NaN  "
      ]
     },
     "execution_count": 2,
     "metadata": {},
     "output_type": "execute_result"
    }
   ],
   "source": [
    "# Load the CSV file\n",
    "import pandas as pd\n",
    "dataset=pd.read_csv(r\"C:\\Users\\Abubakar\\Downloads\\100-Sales-Records\\sales.csv\")\n",
    "dataset.head(5)"
   ]
  },
  {
   "cell_type": "code",
   "execution_count": 3,
   "id": "dfb13b7d",
   "metadata": {},
   "outputs": [
    {
     "data": {
      "text/html": [
       "<div>\n",
       "<style scoped>\n",
       "    .dataframe tbody tr th:only-of-type {\n",
       "        vertical-align: middle;\n",
       "    }\n",
       "\n",
       "    .dataframe tbody tr th {\n",
       "        vertical-align: top;\n",
       "    }\n",
       "\n",
       "    .dataframe thead th {\n",
       "        text-align: right;\n",
       "    }\n",
       "</style>\n",
       "<table border=\"1\" class=\"dataframe\">\n",
       "  <thead>\n",
       "    <tr style=\"text-align: right;\">\n",
       "      <th></th>\n",
       "      <th>Order ID</th>\n",
       "      <th>Units Sold</th>\n",
       "      <th>Unit Price</th>\n",
       "      <th>Unit Cost</th>\n",
       "      <th>Total Revenue</th>\n",
       "      <th>Total Profit</th>\n",
       "    </tr>\n",
       "  </thead>\n",
       "  <tbody>\n",
       "    <tr>\n",
       "      <th>count</th>\n",
       "      <td>4.600000e+01</td>\n",
       "      <td>46.000000</td>\n",
       "      <td>47.000000</td>\n",
       "      <td>46.000000</td>\n",
       "      <td>4.600000e+01</td>\n",
       "      <td>4.600000e+01</td>\n",
       "    </tr>\n",
       "    <tr>\n",
       "      <th>mean</th>\n",
       "      <td>5.521946e+08</td>\n",
       "      <td>7679.869565</td>\n",
       "      <td>278.448936</td>\n",
       "      <td>182.002174</td>\n",
       "      <td>1.380946e+06</td>\n",
       "      <td>3.879727e+05</td>\n",
       "    </tr>\n",
       "    <tr>\n",
       "      <th>std</th>\n",
       "      <td>2.788049e+08</td>\n",
       "      <td>11600.333445</td>\n",
       "      <td>237.531573</td>\n",
       "      <td>178.384933</td>\n",
       "      <td>1.524745e+06</td>\n",
       "      <td>4.229934e+05</td>\n",
       "    </tr>\n",
       "    <tr>\n",
       "      <th>min</th>\n",
       "      <td>1.154567e+08</td>\n",
       "      <td>124.000000</td>\n",
       "      <td>9.330000</td>\n",
       "      <td>6.920000</td>\n",
       "      <td>1.910344e+04</td>\n",
       "      <td>5.270670e+03</td>\n",
       "    </tr>\n",
       "    <tr>\n",
       "      <th>25%</th>\n",
       "      <td>3.244106e+08</td>\n",
       "      <td>2478.500000</td>\n",
       "      <td>81.730000</td>\n",
       "      <td>56.670000</td>\n",
       "      <td>2.439543e+05</td>\n",
       "      <td>8.508124e+04</td>\n",
       "    </tr>\n",
       "    <tr>\n",
       "      <th>50%</th>\n",
       "      <td>5.213307e+08</td>\n",
       "      <td>5097.000000</td>\n",
       "      <td>154.060000</td>\n",
       "      <td>107.275000</td>\n",
       "      <td>7.763604e+05</td>\n",
       "      <td>2.605394e+05</td>\n",
       "    </tr>\n",
       "    <tr>\n",
       "      <th>75%</th>\n",
       "      <td>8.099064e+08</td>\n",
       "      <td>7419.250000</td>\n",
       "      <td>437.200000</td>\n",
       "      <td>263.330000</td>\n",
       "      <td>2.372182e+06</td>\n",
       "      <td>5.594915e+05</td>\n",
       "    </tr>\n",
       "    <tr>\n",
       "      <th>max</th>\n",
       "      <td>9.940222e+08</td>\n",
       "      <td>59080.000000</td>\n",
       "      <td>668.270000</td>\n",
       "      <td>524.960000</td>\n",
       "      <td>5.997055e+06</td>\n",
       "      <td>1.541705e+06</td>\n",
       "    </tr>\n",
       "  </tbody>\n",
       "</table>\n",
       "</div>"
      ],
      "text/plain": [
       "           Order ID    Units Sold  Unit Price   Unit Cost  Total Revenue  \\\n",
       "count  4.600000e+01     46.000000   47.000000   46.000000   4.600000e+01   \n",
       "mean   5.521946e+08   7679.869565  278.448936  182.002174   1.380946e+06   \n",
       "std    2.788049e+08  11600.333445  237.531573  178.384933   1.524745e+06   \n",
       "min    1.154567e+08    124.000000    9.330000    6.920000   1.910344e+04   \n",
       "25%    3.244106e+08   2478.500000   81.730000   56.670000   2.439543e+05   \n",
       "50%    5.213307e+08   5097.000000  154.060000  107.275000   7.763604e+05   \n",
       "75%    8.099064e+08   7419.250000  437.200000  263.330000   2.372182e+06   \n",
       "max    9.940222e+08  59080.000000  668.270000  524.960000   5.997055e+06   \n",
       "\n",
       "       Total Profit  \n",
       "count  4.600000e+01  \n",
       "mean   3.879727e+05  \n",
       "std    4.229934e+05  \n",
       "min    5.270670e+03  \n",
       "25%    8.508124e+04  \n",
       "50%    2.605394e+05  \n",
       "75%    5.594915e+05  \n",
       "max    1.541705e+06  "
      ]
     },
     "execution_count": 3,
     "metadata": {},
     "output_type": "execute_result"
    }
   ],
   "source": [
    "dataset.describe()"
   ]
  },
  {
   "cell_type": "code",
   "execution_count": 12,
   "id": "648cce3f",
   "metadata": {},
   "outputs": [
    {
     "data": {
      "text/plain": [
       "(49, 11)"
      ]
     },
     "execution_count": 12,
     "metadata": {},
     "output_type": "execute_result"
    }
   ],
   "source": [
    "dataset.shape"
   ]
  },
  {
   "cell_type": "markdown",
   "id": "e01aafd5",
   "metadata": {},
   "source": [
    "outlier Find using seaborn libraray\n",
    "we use function of boxplot from that library \n",
    "and matplotib is use to show data"
   ]
  },
  {
   "cell_type": "code",
   "execution_count": 13,
   "id": "4e105272",
   "metadata": {},
   "outputs": [
    {
     "data": {
      "image/png": "[encoded data removed]",
      "text/plain": [
       "<Figure size 640x480 with 1 Axes>"
      ]
     },
     "metadata": {},
     "output_type": "display_data"
    }
   ],
   "source": [
    "import seaborn as sns\n",
    "import matplotlib.pyplot as plt\n",
    "sns.boxplot(x=\"Units Sold\",data=dataset)\n",
    "plt.show()"
   ]
  },
  {
   "cell_type": "markdown",
   "id": "baf1891c",
   "metadata": {},
   "source": [
    "Remove outlier"
   ]
  },
  {
   "cell_type": "code",
   "execution_count": 24,
   "id": "c5be8616",
   "metadata": {},
   "outputs": [
    {
     "name": "stdout",
     "output_type": "stream",
     "text": [
      "7419.25\n",
      "2478.5\n"
     ]
    }
   ],
   "source": [
    "Q3=dataset[\"Units Sold\"].quantile(0.75)\n",
    "IQR=Q3-Q1\n",
    "print(Q3)\n",
    "print(Q1)"
   ]
  },
  {
   "cell_type": "code",
   "execution_count": 15,
   "id": "5b8d9e47",
   "metadata": {},
   "outputs": [
    {
     "name": "stdout",
     "output_type": "stream",
     "text": [
      "-7410.125 7414.125\n"
     ]
    }
   ],
   "source": [
    "min_value=1-1.5*IQR\n",
    "max_value=3+1.5*IQR\n",
    "print(min_value,max_value)"
   ]
  },
  {
   "cell_type": "code",
   "execution_count": 16,
   "id": "d8f4ad90",
   "metadata": {},
   "outputs": [
    {
     "data": {
      "text/plain": [
       "(34, 11)"
      ]
     },
     "execution_count": 16,
     "metadata": {},
     "output_type": "execute_result"
    }
   ],
   "source": [
    "new_data=dataset[dataset[\"Units Sold\"]<=max_value]\n",
    "new_data.shape"
   ]
  },
  {
   "cell_type": "code",
   "execution_count": 18,
   "id": "e492fd07",
   "metadata": {},
   "outputs": [
    {
     "data": {
      "image/png": "[encoded data removed]",
      "text/plain": [
       "<Figure size 640x480 with 1 Axes>"
      ]
     },
     "metadata": {},
     "output_type": "display_data"
    }
   ],
   "source": [
    "sns.boxplot(x=\"Units Sold\",data=new_data)\n",
    "plt.show()"
   ]
  }
 ],
 "metadata": {
  "kernelspec": {
   "display_name": "Python 3",
   "language": "python",
   "name": "python3"
  },
  "language_info": {
   "codemirror_mode": {
    "name": "ipython",
    "version": 3
   },
   "file_extension": ".py",
   "mimetype": "text/x-python",
   "name": "python",
   "nbconvert_exporter": "python",
   "pygments_lexer": "ipython3",
   "version": "3.13.2"
  }
 },
 "nbformat": 4,
 "nbformat_minor": 5
}
